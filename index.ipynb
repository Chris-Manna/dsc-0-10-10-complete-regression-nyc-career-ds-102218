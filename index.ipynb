{
 "cells": [
  {
   "cell_type": "markdown",
   "metadata": {},
   "source": [
    "# Regression Lab\n",
    "\n",
    "Now have all the necessary functions to calculate the slope, intercept, best-fit line, prediction and visualizations. In this lab you will put them all together to run a regression experiment and calculate model loss. \n",
    "\n",
    "## SWBAT\n",
    "\n",
    "* Run a complete regression analysis through code only. "
   ]
  },
  {
   "cell_type": "markdown",
   "metadata": {},
   "source": [
    "## Here are all the formulas to put everything in perspective\n",
    "\n",
    "#### Slope\n",
    "<img src=\"m.png\" width = 300>\n",
    "\n",
    "#### Intercept \n",
    "<img src=\"b.png\" width = 200>\n",
    "\n",
    "#### R-squared\n",
    "<img src=\"r2.png\" width = 400>\n",
    "\n",
    "#### Prediction\n",
    "![](pred.jpg)\n",
    "\n",
    "\n",
    "Use the functions created earlier to implement these formulas to run a regression analysis using X and Y as input variables. "
   ]
  },
  {
   "cell_type": "code",
   "execution_count": 17,
   "metadata": {},
   "outputs": [
    {
     "name": "stdout",
     "output_type": "stream",
     "text": [
      "Collecting seaborn\n",
      "\u001b[?25l  Downloading https://files.pythonhosted.org/packages/a8/76/220ba4420459d9c4c9c9587c6ce607bf56c25b3d3d2de62056efe482dadc/seaborn-0.9.0-py3-none-any.whl (208kB)\n",
      "\u001b[K    100% |████████████████████████████████| 215kB 17.9MB/s ta 0:00:01\n",
      "\u001b[?25hRequirement already satisfied: matplotlib>=1.4.3 in /opt/conda/envs/learn-env/lib/python3.6/site-packages (from seaborn) (3.0.2)\n",
      "Requirement already satisfied: numpy>=1.9.3 in /opt/conda/envs/learn-env/lib/python3.6/site-packages (from seaborn) (1.15.0)\n",
      "Requirement already satisfied: pandas>=0.15.2 in /opt/conda/envs/learn-env/lib/python3.6/site-packages (from seaborn) (0.23.4)\n",
      "Requirement already satisfied: scipy>=0.14.0 in /opt/conda/envs/learn-env/lib/python3.6/site-packages (from seaborn) (1.1.0)\n",
      "Requirement already satisfied: python-dateutil>=2.1 in /opt/conda/envs/learn-env/lib/python3.6/site-packages (from matplotlib>=1.4.3->seaborn) (2.7.5)\n",
      "Requirement already satisfied: pyparsing!=2.0.4,!=2.1.2,!=2.1.6,>=2.0.1 in /opt/conda/envs/learn-env/lib/python3.6/site-packages (from matplotlib>=1.4.3->seaborn) (2.3.0)\n",
      "Requirement already satisfied: kiwisolver>=1.0.1 in /opt/conda/envs/learn-env/lib/python3.6/site-packages (from matplotlib>=1.4.3->seaborn) (1.0.1)\n",
      "Requirement already satisfied: cycler>=0.10 in /opt/conda/envs/learn-env/lib/python3.6/site-packages (from matplotlib>=1.4.3->seaborn) (0.10.0)\n",
      "Requirement already satisfied: pytz>=2011k in /opt/conda/envs/learn-env/lib/python3.6/site-packages (from pandas>=0.15.2->seaborn) (2018.5)\n",
      "Requirement already satisfied: six>=1.5 in /opt/conda/envs/learn-env/lib/python3.6/site-packages (from python-dateutil>=2.1->matplotlib>=1.4.3->seaborn) (1.11.0)\n",
      "Requirement already satisfied: setuptools in /opt/conda/envs/learn-env/lib/python3.6/site-packages (from kiwisolver>=1.0.1->matplotlib>=1.4.3->seaborn) (40.0.0)\n",
      "Installing collected packages: seaborn\n",
      "Successfully installed seaborn-0.9.0\n",
      "\u001b[33mYou are using pip version 10.0.1, however version 18.1 is available.\n",
      "You should consider upgrading via the 'pip install --upgrade pip' command.\u001b[0m\n"
     ]
    }
   ],
   "source": [
    "!pip install seaborn"
   ]
  },
  {
   "cell_type": "code",
   "execution_count": 100,
   "metadata": {},
   "outputs": [],
   "source": [
    "import seaborn as sns\n",
    "import matplotlib.pyplot as plt\n",
    "import pandas as pd"
   ]
  },
  {
   "cell_type": "code",
   "execution_count": 204,
   "metadata": {},
   "outputs": [],
   "source": [
    "# Combine all the functions created so far to run a complete regression experiment. \n",
    "# Produce an output similar to the one shown below. \n",
    "import numpy as np\n",
    "\n",
    "X = np.array([1,2,3,4,5,6,7,8,9,10], dtype=np.float64)\n",
    "Y = np.array([7,7,8,9,9,10,10,11,11,12], dtype=np.float64)\n",
    "\n",
    "def calc_slope(x_lst,y_lst):\n",
    "    x_mean, y_mean = x_lst.mean(), y_lst.mean()\n",
    "    xy_bar = (x_lst*y_lst).mean()\n",
    "    \n",
    "    numer = x_mean * y_mean - xy_bar\n",
    "    denom = (x_mean**2 - (x_lst**2).mean())\n",
    "    return numer / denom\n",
    "\n",
    "def calc_intercept(x_lst, y_lst):\n",
    "    y_mean, x_mean = y_lst.mean(), x_lst.mean()\n",
    "    \n",
    "    return y_mean - calc_slope(x_lst,y_lst) * x_mean\n",
    "\n",
    "def get_predicted_vals(x_lst,m,b):\n",
    "    pred_lst = []\n",
    "    for val in x_lst:\n",
    "        pred_lst.append(val*m + b)\n",
    "    return list(pred_lst)\n",
    "\n",
    "def get_diff_sq(y_lst,comp_var):\n",
    "    arr = []\n",
    "    if type(comp_var) == np.float64:\n",
    "        comp_var = np.array([comp_var for v in y_lst])\n",
    "    for y_i,y_second in list(zip(y_lst, comp_var)):\n",
    "        arr.append(y_i - y_second)\n",
    "    return np.array(arr)**2\n",
    "\n",
    "\n",
    "def calc_r_squared(x_lst, y_lst):\n",
    "    b = calc_intercept(x_lst,y_lst)\n",
    "    m = calc_slope(x_lst,y_lst)\n",
    "    \n",
    "    y_pred_lst = get_predicted_vals(x_lst,m,b)\n",
    "    SS_Res = sum(get_diff_sq(y_lst,y_pred_lst))\n",
    "    SS_Tot = sum(get_diff_sq(y_lst, y_lst.mean()))\n",
    "\n",
    "    return 1 - SS_Res/SS_Tot\n",
    "\n",
    "def gather_lin_reg_info(X,Y):\n",
    "    lin_dict = {\n",
    "        'm': round(calc_slope(X,Y),2),\n",
    "        'b': round(calc_intercept(X,Y),2),\n",
    "        'r_sq': np.round(calc_r_squared(X,Y),2)\n",
    "    }\n",
    "    return lin_dict\n",
    "\n",
    "def plot_reg(x_lst,y_lst,pred_dict,x_new=None,y_new=None):\n",
    "    plt.style.use('ggplot')\n",
    "    plt.scatter(x_lst,y_lst, color='#003F72', label='data')\n",
    "\n",
    "    plt.plot(np.array(list(x_lst)),pred_dict['b'] + np.array(list(x_lst))*pred_dict['m'],color='red',label='reg line')\n",
    "    return None\n",
    "    if x_new:\n",
    "        plt.scatter(x_new,y_new,color='r',label='Prediction: '+str(np.round(y_new,1)))\n",
    "    \n",
    "    plt.legend(loc=4)\n",
    "    plt.show()\n",
    "    return None"
   ]
  },
  {
   "cell_type": "code",
   "execution_count": 205,
   "metadata": {},
   "outputs": [
    {
     "name": "stdout",
     "output_type": "stream",
     "text": [
      "Basic Regression Diagnostics\n",
      "----------------------------\n",
      "Slope: 0.56\n",
      "Y-Intercept: 6.33\n",
      "R-Squared: 0.97\n",
      "----------------------------\n",
      "Model: Y = 0.56 * X + 6.33\n"
     ]
    },
    {
     "data": {
      "image/png": "[encoded data removed]",
      "text/plain": [
       "<Figure size 432x288 with 1 Axes>"
      ]
     },
     "metadata": {},
     "output_type": "display_data"
    }
   ],
   "source": [
    "lin_reg_dict = gather_lin_reg_info(X,Y)\n",
    "\n",
    "print('Basic Regression Diagnostics')\n",
    "print('----------------------------')\n",
    "print('Slope: '+str(lin_reg_dict['m']))\n",
    "print('Y-Intercept: '+str(lin_reg_dict['b']))\n",
    "print('R-Squared: '+str(lin_reg_dict['r_sq']))\n",
    "print('----------------------------')\n",
    "print('Model: Y = '+str(lin_reg_dict['m']) + ' * X + '+str(lin_reg_dict['b']))\n",
    "\n",
    "plot_reg(X,Y,lin_reg_dict)\n"
   ]
  },
  {
   "cell_type": "markdown",
   "metadata": {},
   "source": [
    "## Make Predictions\n",
    "\n",
    "Predict and plot the value of y using regression line above for a new value of x = 4.5."
   ]
  },
  {
   "cell_type": "code",
   "execution_count": 206,
   "metadata": {},
   "outputs": [
    {
     "data": {
      "image/png": "[encoded data removed]",
      "text/plain": [
       "<Figure size 432x288 with 1 Axes>"
      ]
     },
     "metadata": {},
     "output_type": "display_data"
    }
   ],
   "source": [
    "# Make prediction using given value and visualize on the scatter plot\n",
    "x_new = 4.5\n",
    "y_new = (lin_reg_dict['m']*x_new) + lin_reg_dict['b']\n",
    "\n",
    "plot_reg(X,Y,lin_reg_dict, x_new,y_new)\n"
   ]
  },
  {
   "cell_type": "code",
   "execution_count": null,
   "metadata": {},
   "outputs": [],
   "source": []
  },
  {
   "cell_type": "markdown",
   "metadata": {},
   "source": [
    "## Level up - Optional \n",
    "Load the \"heightWeight.csv\" dataset. Use the height as an independant and weight as a dependant variable and draw a regression line to data using your code above. Calculate your R-square for the model and try to predict new values of Y. "
   ]
  },
  {
   "cell_type": "code",
   "execution_count": 208,
   "metadata": {},
   "outputs": [
    {
     "data": {
      "image/png": "[encoded data removed]",
      "text/plain": [
       "<Figure size 432x288 with 1 Axes>"
      ]
     },
     "metadata": {},
     "output_type": "display_data"
    }
   ],
   "source": [
    "doc = pd.read_csv('heightWeight.csv')\n",
    "x_height = doc.height\n",
    "y_weight = doc.Weight\n",
    "\n",
    "x_new2 = 60\n",
    "y_new2 = (lin_reg_dict['m']*x_new2) + lin_reg_dict['b']\n",
    "\n",
    "lin_reg_dict2 = gather_lin_reg_info(x_height,y_weight)\n",
    "plot_reg(x_height,y_weight,lin_reg_dict2,x_new2,y_new2)"
   ]
  },
  {
   "cell_type": "markdown",
   "metadata": {},
   "source": [
    "## Summary\n",
    "\n",
    "In this lab, we ran a complete simple regression analysis experiment using functions created so far. Next We shall see how we can use python's built in modules to perform such analyses with a much higher level of sophistication. "
   ]
  },
  {
   "cell_type": "code",
   "execution_count": null,
   "metadata": {},
   "outputs": [],
   "source": []
  }
 ],
 "metadata": {
  "kernelspec": {
   "display_name": "Python 3",
   "language": "python",
   "name": "python3"
  },
  "language_info": {
   "codemirror_mode": {
    "name": "ipython",
    "version": 3
   },
   "file_extension": ".py",
   "mimetype": "text/x-python",
   "name": "python",
   "nbconvert_exporter": "python",
   "pygments_lexer": "ipython3",
   "version": "3.6.6"
  }
 },
 "nbformat": 4,
 "nbformat_minor": 2
}
